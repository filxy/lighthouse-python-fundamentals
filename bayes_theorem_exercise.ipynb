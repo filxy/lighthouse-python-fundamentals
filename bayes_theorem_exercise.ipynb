{
 "cells": [
  {
   "cell_type": "markdown",
   "metadata": {
    "ExecuteTime": {
     "end_time": "2020-02-05T17:56:18.818219Z",
     "start_time": "2020-02-05T17:56:18.810698Z"
    }
   },
   "source": [
    "## Exercise 1\n",
    "In Orange County, 51% of the adults are males. (It doesn't take too much advanced\n",
    "mathematics to deduce that the other 49% are females.) One adult is randomly selected\n",
    "for a survey involving credit card usage.\n",
    "\n",
    "- **(a)** Find the probability that the selected person is a male.\n",
    "\n",
    "- **(b)** It is later learned that the selected survey subject was smoking a cigar. Also, 9.5% of males smoke cigars, whereas 1.7% of females smoke cigars (based on data from the Substance Abuse and Mental Health Services Administration). Use this additional information to find the probability that the cigar−smoking respondent is a male\n",
    "\n",
    "Use following notation:\n",
    "M = male <br>\n",
    "F = female <br>\n",
    "C = cigar smoker<br>\n",
    "NC = not a cigar smoker<br>\n"
   ]
  },
  {
   "cell_type": "code",
   "execution_count": 25,
   "metadata": {},
   "outputs": [
    {
     "name": "stdout",
     "output_type": "stream",
     "text": [
      "probability of adults being male:0.51\n"
     ]
    }
   ],
   "source": [
    "M = 51\n",
    "#PROBABILITY OF ADULTS BEING MALE\n",
    "P_M = M/100 \n",
    "print(\"probability of adults being male:{}\".format(P_M))"
   ]
  },
  {
   "cell_type": "code",
   "execution_count": 26,
   "metadata": {},
   "outputs": [
    {
     "name": "stdout",
     "output_type": "stream",
     "text": [
      "Probability of cigar smoker respondent is male:0.8532934131736527\n"
     ]
    }
   ],
   "source": [
    "#male that smoke cigar\n",
    "M_C = 9.5\n",
    "#female that smoke cigar\n",
    "F_C = 1.7\n",
    "#PROBABILITY OF CIGAR SMOKER IS MALE\n",
    "P_C_M = 9.5/100\n",
    "#PROBABILITY OF ADULTS BEING FEMALE\n",
    "P_F = 49/100\n",
    "#PROBABILITY OF CIGAR SMOKER IS FEMALE\n",
    "P_C_F = 1.7/100\n",
    "#PROBABILITY OF MALE WHO SMOKE CIGAR\n",
    "P_M_C = (P_M*P_C_M)/(P_M*P_C_M + P_F*P_C_F)\n",
    "print(\"Probability of cigar smoker respondent is male:{}\".format(P_M_C))"
   ]
  },
  {
   "cell_type": "code",
   "execution_count": null,
   "metadata": {},
   "outputs": [],
   "source": []
  },
  {
   "cell_type": "markdown",
   "metadata": {
    "ExecuteTime": {
     "end_time": "2020-02-05T17:56:20.532960Z",
     "start_time": "2020-02-05T17:56:20.525450Z"
    }
   },
   "source": [
    "# Exercise 2\n",
    "\n",
    "A diagnostic test has a probability 0.95 of giving a positive result when applied to a person suffering\n",
    "from a certain disease, and a probability 0.10 of giving a (false) positive when applied to a non-sufferer. It is\n",
    "estimated that 0.5 % of the population are sufferers. Suppose that the test is now administered to a person about\n",
    "whom we have no relevant information relating to the disease (apart from the fact that he/she comes from this\n",
    "population). \n",
    "\n",
    "Calculate the following probabilities:\n",
    "- **(a)** that the test result will be positive;\n",
    "- **(b)** that, given a positive result, the person is a sufferer;\n",
    "- **(c)** that, given a negative result, the person is a non-sufferer;\n",
    "- **(d)** that the person will be misclassified.\n",
    "\n",
    "Use following notation:\n",
    "\n",
    "T = test positive <br>\n",
    "NT = test negative<br>\n",
    "S = sufferer<br>\n",
    "NS = non-sufferer<br>\n",
    "M = misclassified<br>\n",
    "\n",
    "Solve it by two approaches:\n",
    "1. Arithmetically\n",
    "2. By simulation"
   ]
  },
  {
   "cell_type": "code",
   "execution_count": 23,
   "metadata": {},
   "outputs": [
    {
     "name": "stdout",
     "output_type": "stream",
     "text": [
      "Arithmetic:\n",
      "\n",
      "Probability of test result will be: 10.425%\n",
      "Probability of true positive test: 4.5563549160671455%\n",
      "Probability of true negative test: 99.97209042701647%\n",
      "Probability of misclassification: 9.975000000000001%\n",
      "\n",
      "\n",
      "Simulation:\n",
      "\n",
      "Probability of test result wil be positive: 10.445%\n",
      "Probability of true positive test: 4.59550023934897%\n",
      "Probability of true negative test: 99.97431745854503%\n",
      "Probability of misclassification: 9.988%\n"
     ]
    }
   ],
   "source": [
    "probability_of_sickness = 0.005\n",
    "\n",
    "\n",
    "S = probability_of_sickness\n",
    "S_T = S*0.95\n",
    "S_NT = S*0.05\n",
    "\n",
    "\n",
    "NS = 1 - probability_of_sickness\n",
    "NS_T = NS*0.1\n",
    "NS_NT = NS*0.9\n",
    "\n",
    "probability_of_positive_test = (S_T + NS_T) / ( S_T + S_NT + NS_T + NS_NT )\n",
    "probability_of_accurate_positive_test =  (S_T) / (S_T + NS_T)\n",
    "probability_of_accurate_negative_test = (NS_NT) / (NS_NT + S_NT)\n",
    "probability_of_misclassification =  (NS_T + S_NT)\n",
    "\n",
    "print(\"Arithmetic:\\n\")\n",
    "print(\"Probability of test result will be: {}%\".format(probability_of_positive_test*100))\n",
    "print(\"Probability of true positive test: {}%\".format(probability_of_accurate_positive_test*100))\n",
    "print(\"Probability of true negative test: {}%\".format(probability_of_accurate_negative_test*100))\n",
    "print(\"Probability of misclassification: {}%\".format(probability_of_misclassification*100))\n",
    "\n",
    "\n",
    "probability_of_sickness = 0.005\n",
    "\n",
    "\n",
    "S = 0\n",
    "S_T = 0\n",
    "S_NT = 0\n",
    "\n",
    "NS = 0\n",
    "NS_T = 0\n",
    "NS_NT = 0\n",
    "\n",
    "trials = 100000\n",
    "\n",
    "def is_sufferer():\n",
    "    return np.random.random() < probability_of_sickness\n",
    "\n",
    "def is_true_positive():\n",
    "    return np.random.random() < 0.95\n",
    "\n",
    "def is_false_positive():\n",
    "    return np.random.random() < 0.1\n",
    "\n",
    "for t in range(trials):\n",
    "    if is_sufferer():\n",
    "        S+=1\n",
    "        if is_true_positive():\n",
    "            S_T += 1\n",
    "        else:\n",
    "            S_NT += 1\n",
    "    else:\n",
    "        NS += 1\n",
    "        if is_false_positive():\n",
    "            NS_T += 1\n",
    "        else:\n",
    "            NS_NT += 1\n",
    "\n",
    "print(\"\\n\\nSimulation:\\n\")\n",
    "print(\"Probability of test result wil be positive: {}%\".format( (S_T + NS_T) / trials * 100) )\n",
    "print(\"Probability of true positive test: {}%\".format( S_T / (NS_T + S_T) * 100) )\n",
    "print(\"Probability of true negative test: {}%\".format( NS_NT / (NS_NT + S_NT) * 100) )\n",
    "print(\"Probability of misclassification: {}%\".format( (NS_T + S_NT) / trials * 100) )"
   ]
  },
  {
   "cell_type": "code",
   "execution_count": null,
   "metadata": {},
   "outputs": [],
   "source": []
  }
 ],
 "metadata": {
  "kernelspec": {
   "display_name": "Python 3 (ipykernel)",
   "language": "python",
   "name": "python3"
  },
  "language_info": {
   "codemirror_mode": {
    "name": "ipython",
    "version": 3
   },
   "file_extension": ".py",
   "mimetype": "text/x-python",
   "name": "python",
   "nbconvert_exporter": "python",
   "pygments_lexer": "ipython3",
   "version": "3.8.12"
  },
  "toc": {
   "base_numbering": 1,
   "nav_menu": {},
   "number_sections": true,
   "sideBar": true,
   "skip_h1_title": false,
   "title_cell": "Table of Contents",
   "title_sidebar": "Contents",
   "toc_cell": false,
   "toc_position": {},
   "toc_section_display": true,
   "toc_window_display": false
  },
  "varInspector": {
   "cols": {
    "lenName": 16,
    "lenType": 16,
    "lenVar": 40
   },
   "kernels_config": {
    "python": {
     "delete_cmd_postfix": "",
     "delete_cmd_prefix": "del ",
     "library": "var_list.py",
     "varRefreshCmd": "print(var_dic_list())"
    },
    "r": {
     "delete_cmd_postfix": ") ",
     "delete_cmd_prefix": "rm(",
     "library": "var_list.r",
     "varRefreshCmd": "cat(var_dic_list()) "
    }
   },
   "types_to_exclude": [
    "module",
    "function",
    "builtin_function_or_method",
    "instance",
    "_Feature"
   ],
   "window_display": false
  }
 },
 "nbformat": 4,
 "nbformat_minor": 4
}
