{
 "cells": [
  {
   "cell_type": "code",
   "execution_count": 1,
   "id": "0aacbfe3-d655-430c-96f1-ddf3e7382646",
   "metadata": {},
   "outputs": [
    {
     "name": "stdin",
     "output_type": "stream",
     "text": [
      " 2\n",
      " 4\n",
      " 6\n"
     ]
    },
    {
     "name": "stdout",
     "output_type": "stream",
     "text": [
      "\n",
      "The sum is : 12\n"
     ]
    }
   ],
   "source": [
    "total = 0\n",
    "i = 0 \n",
    "while i < 3:\n",
    "    Sum = int(input())\n",
    "    total += Sum\n",
    "    i += 1\n",
    "    continue\n",
    "    \n",
    "print(\"\\nThe sum is :\", total)"
   ]
  }
 ],
 "metadata": {
  "kernelspec": {
   "display_name": "Python 3 (ipykernel)",
   "language": "python",
   "name": "python3"
  },
  "language_info": {
   "codemirror_mode": {
    "name": "ipython",
    "version": 3
   },
   "file_extension": ".py",
   "mimetype": "text/x-python",
   "name": "python",
   "nbconvert_exporter": "python",
   "pygments_lexer": "ipython3",
   "version": "3.8.12"
  }
 },
 "nbformat": 4,
 "nbformat_minor": 5
}
